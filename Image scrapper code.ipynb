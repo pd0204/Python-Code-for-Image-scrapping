{
 "cells": [
  {
   "cell_type": "code",
   "execution_count": 18,
   "id": "b15eab71-0883-49da-9154-973af2577e4d",
   "metadata": {},
   "outputs": [],
   "source": [
    "import requests\n",
    "from bs4 import BeautifulSoup\n",
    "from urllib.request import urlopen as uReq\n",
    "import logging\n",
    "import os"
   ]
  },
  {
   "cell_type": "code",
   "execution_count": 20,
   "id": "af953c1c-8939-46f1-bbd8-224eedc4869a",
   "metadata": {},
   "outputs": [],
   "source": [
    "import html"
   ]
  },
  {
   "cell_type": "code",
   "execution_count": 19,
   "id": "65088e24-f28f-4b4b-a740-963ef6606a0b",
   "metadata": {},
   "outputs": [],
   "source": [
    "save_dir = 'images/'\n",
    "if not os.path.exists(save_dir):\n",
    "    os.makedirs(save_dir)"
   ]
  },
  {
   "cell_type": "code",
   "execution_count": 23,
   "id": "51cab7c4-c514-4b8e-a309-e5de4482c831",
   "metadata": {},
   "outputs": [],
   "source": [
    "query = 'narendra modi'\n",
    "response = requests.get(f\"https://www.google.com/search?q={query}&client=firefox-b-d&sxsrf=APwXEdeGjw-EDFG7gsdZa2QfJilAWGxq_w:1686139777267&source=lnms&tbm=isch&sa=X&ved=2ahUKEwiAwtyTkLH_AhX2bmwGHbYNBpgQ_AUoAnoECAEQBA&biw=1216&bih=567&dpr=1.58\")\n"
   ]
  },
  {
   "cell_type": "code",
   "execution_count": 25,
   "id": "e4eb747b-c8ba-4b1f-b528-8e55718e77de",
   "metadata": {},
   "outputs": [],
   "source": [
    "b_response = BeautifulSoup(response.content,'html.parser')"
   ]
  },
  {
   "cell_type": "code",
   "execution_count": 33,
   "id": "98e62af2-8af6-4e2f-82ec-ca27023381ca",
   "metadata": {},
   "outputs": [],
   "source": [
    "img_tags = b_response.find_all('img')"
   ]
  },
  {
   "cell_type": "code",
   "execution_count": 42,
   "id": "49e8d0f4-9d0d-4f20-b4f9-b375a872bfe3",
   "metadata": {},
   "outputs": [],
   "source": [
    "del img_tags[0]"
   ]
  },
  {
   "cell_type": "code",
   "execution_count": 43,
   "id": "15d55de7-5f43-49c5-978c-aaed90c7efe7",
   "metadata": {},
   "outputs": [],
   "source": [
    "for i in img_tags:\n",
    "    img_url = i['src']\n",
    "    img_data = requests.get(img_url).content\n",
    "    with open(os.path.join(save_dir,f\"{query}_{img_tags.index(i)}.jpg\") , \"wb\") as f :\n",
    "        f.write(img_data)"
   ]
  },
  {
   "cell_type": "code",
   "execution_count": null,
   "id": "b5bd129f-6f05-4d2a-93c2-342ffff960cf",
   "metadata": {},
   "outputs": [],
   "source": []
  }
 ],
 "metadata": {
  "kernelspec": {
   "display_name": "Python 3 (ipykernel)",
   "language": "python",
   "name": "python3"
  },
  "language_info": {
   "codemirror_mode": {
    "name": "ipython",
    "version": 3
   },
   "file_extension": ".py",
   "mimetype": "text/x-python",
   "name": "python",
   "nbconvert_exporter": "python",
   "pygments_lexer": "ipython3",
   "version": "3.9.7"
  },
  "toc-showcode": false
 },
 "nbformat": 4,
 "nbformat_minor": 5
}
